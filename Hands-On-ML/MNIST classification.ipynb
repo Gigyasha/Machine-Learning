{
 "cells": [
  {
   "cell_type": "code",
   "execution_count": 1,
   "metadata": {},
   "outputs": [],
   "source": [
    "import pandas as pd\n",
    "import numpy as np\n",
    "import matplotlib as mpl\n",
    "import matplotlib.pyplot as plt"
   ]
  },
  {
   "cell_type": "code",
   "execution_count": 2,
   "metadata": {},
   "outputs": [
    {
     "data": {
      "text/plain": [
       "((42000, 785), (28000, 784))"
      ]
     },
     "execution_count": 2,
     "metadata": {},
     "output_type": "execute_result"
    }
   ],
   "source": [
    "train = pd.read_csv(\"mnist_train.csv\")\n",
    "test = pd.read_csv(\"mnist_test.csv\")\n",
    "train.shape,test.shape"
   ]
  },
  {
   "cell_type": "code",
   "execution_count": 3,
   "metadata": {},
   "outputs": [
    {
     "data": {
      "text/html": [
       "<div>\n",
       "<style scoped>\n",
       "    .dataframe tbody tr th:only-of-type {\n",
       "        vertical-align: middle;\n",
       "    }\n",
       "\n",
       "    .dataframe tbody tr th {\n",
       "        vertical-align: top;\n",
       "    }\n",
       "\n",
       "    .dataframe thead th {\n",
       "        text-align: right;\n",
       "    }\n",
       "</style>\n",
       "<table border=\"1\" class=\"dataframe\">\n",
       "  <thead>\n",
       "    <tr style=\"text-align: right;\">\n",
       "      <th></th>\n",
       "      <th>label</th>\n",
       "      <th>pixel0</th>\n",
       "      <th>pixel1</th>\n",
       "      <th>pixel2</th>\n",
       "      <th>pixel3</th>\n",
       "      <th>pixel4</th>\n",
       "      <th>pixel5</th>\n",
       "      <th>pixel6</th>\n",
       "      <th>pixel7</th>\n",
       "      <th>pixel8</th>\n",
       "      <th>...</th>\n",
       "      <th>pixel774</th>\n",
       "      <th>pixel775</th>\n",
       "      <th>pixel776</th>\n",
       "      <th>pixel777</th>\n",
       "      <th>pixel778</th>\n",
       "      <th>pixel779</th>\n",
       "      <th>pixel780</th>\n",
       "      <th>pixel781</th>\n",
       "      <th>pixel782</th>\n",
       "      <th>pixel783</th>\n",
       "    </tr>\n",
       "  </thead>\n",
       "  <tbody>\n",
       "    <tr>\n",
       "      <th>0</th>\n",
       "      <td>1</td>\n",
       "      <td>0</td>\n",
       "      <td>0</td>\n",
       "      <td>0</td>\n",
       "      <td>0</td>\n",
       "      <td>0</td>\n",
       "      <td>0</td>\n",
       "      <td>0</td>\n",
       "      <td>0</td>\n",
       "      <td>0</td>\n",
       "      <td>...</td>\n",
       "      <td>0</td>\n",
       "      <td>0</td>\n",
       "      <td>0</td>\n",
       "      <td>0</td>\n",
       "      <td>0</td>\n",
       "      <td>0</td>\n",
       "      <td>0</td>\n",
       "      <td>0</td>\n",
       "      <td>0</td>\n",
       "      <td>0</td>\n",
       "    </tr>\n",
       "    <tr>\n",
       "      <th>1</th>\n",
       "      <td>0</td>\n",
       "      <td>0</td>\n",
       "      <td>0</td>\n",
       "      <td>0</td>\n",
       "      <td>0</td>\n",
       "      <td>0</td>\n",
       "      <td>0</td>\n",
       "      <td>0</td>\n",
       "      <td>0</td>\n",
       "      <td>0</td>\n",
       "      <td>...</td>\n",
       "      <td>0</td>\n",
       "      <td>0</td>\n",
       "      <td>0</td>\n",
       "      <td>0</td>\n",
       "      <td>0</td>\n",
       "      <td>0</td>\n",
       "      <td>0</td>\n",
       "      <td>0</td>\n",
       "      <td>0</td>\n",
       "      <td>0</td>\n",
       "    </tr>\n",
       "    <tr>\n",
       "      <th>2</th>\n",
       "      <td>1</td>\n",
       "      <td>0</td>\n",
       "      <td>0</td>\n",
       "      <td>0</td>\n",
       "      <td>0</td>\n",
       "      <td>0</td>\n",
       "      <td>0</td>\n",
       "      <td>0</td>\n",
       "      <td>0</td>\n",
       "      <td>0</td>\n",
       "      <td>...</td>\n",
       "      <td>0</td>\n",
       "      <td>0</td>\n",
       "      <td>0</td>\n",
       "      <td>0</td>\n",
       "      <td>0</td>\n",
       "      <td>0</td>\n",
       "      <td>0</td>\n",
       "      <td>0</td>\n",
       "      <td>0</td>\n",
       "      <td>0</td>\n",
       "    </tr>\n",
       "    <tr>\n",
       "      <th>3</th>\n",
       "      <td>4</td>\n",
       "      <td>0</td>\n",
       "      <td>0</td>\n",
       "      <td>0</td>\n",
       "      <td>0</td>\n",
       "      <td>0</td>\n",
       "      <td>0</td>\n",
       "      <td>0</td>\n",
       "      <td>0</td>\n",
       "      <td>0</td>\n",
       "      <td>...</td>\n",
       "      <td>0</td>\n",
       "      <td>0</td>\n",
       "      <td>0</td>\n",
       "      <td>0</td>\n",
       "      <td>0</td>\n",
       "      <td>0</td>\n",
       "      <td>0</td>\n",
       "      <td>0</td>\n",
       "      <td>0</td>\n",
       "      <td>0</td>\n",
       "    </tr>\n",
       "    <tr>\n",
       "      <th>4</th>\n",
       "      <td>0</td>\n",
       "      <td>0</td>\n",
       "      <td>0</td>\n",
       "      <td>0</td>\n",
       "      <td>0</td>\n",
       "      <td>0</td>\n",
       "      <td>0</td>\n",
       "      <td>0</td>\n",
       "      <td>0</td>\n",
       "      <td>0</td>\n",
       "      <td>...</td>\n",
       "      <td>0</td>\n",
       "      <td>0</td>\n",
       "      <td>0</td>\n",
       "      <td>0</td>\n",
       "      <td>0</td>\n",
       "      <td>0</td>\n",
       "      <td>0</td>\n",
       "      <td>0</td>\n",
       "      <td>0</td>\n",
       "      <td>0</td>\n",
       "    </tr>\n",
       "  </tbody>\n",
       "</table>\n",
       "<p>5 rows × 785 columns</p>\n",
       "</div>"
      ],
      "text/plain": [
       "   label  pixel0  pixel1  pixel2  pixel3  pixel4  pixel5  pixel6  pixel7  \\\n",
       "0      1       0       0       0       0       0       0       0       0   \n",
       "1      0       0       0       0       0       0       0       0       0   \n",
       "2      1       0       0       0       0       0       0       0       0   \n",
       "3      4       0       0       0       0       0       0       0       0   \n",
       "4      0       0       0       0       0       0       0       0       0   \n",
       "\n",
       "   pixel8  ...  pixel774  pixel775  pixel776  pixel777  pixel778  pixel779  \\\n",
       "0       0  ...         0         0         0         0         0         0   \n",
       "1       0  ...         0         0         0         0         0         0   \n",
       "2       0  ...         0         0         0         0         0         0   \n",
       "3       0  ...         0         0         0         0         0         0   \n",
       "4       0  ...         0         0         0         0         0         0   \n",
       "\n",
       "   pixel780  pixel781  pixel782  pixel783  \n",
       "0         0         0         0         0  \n",
       "1         0         0         0         0  \n",
       "2         0         0         0         0  \n",
       "3         0         0         0         0  \n",
       "4         0         0         0         0  \n",
       "\n",
       "[5 rows x 785 columns]"
      ]
     },
     "execution_count": 3,
     "metadata": {},
     "output_type": "execute_result"
    }
   ],
   "source": [
    "train.head()"
   ]
  },
  {
   "cell_type": "code",
   "execution_count": 4,
   "metadata": {},
   "outputs": [
    {
     "data": {
      "text/plain": [
       "((42000, 784), 42000)"
      ]
     },
     "execution_count": 4,
     "metadata": {},
     "output_type": "execute_result"
    }
   ],
   "source": [
    "train_data = train.copy()\n",
    "train_label = train_data[\"label\"]\n",
    "train_data.drop(labels=\"label\",axis=1,inplace=True)\n",
    "train_data.shape , len(train_label)"
   ]
  },
  {
   "cell_type": "markdown",
   "metadata": {},
   "source": [
    "the dataset has 784 attributes as the image is of 28X28 pixels and each feature just represents the pixel intensity which can be ranging from 0(white) to 255(black)<br>\n",
    "__Let's take a look at one digit from the dataset__"
   ]
  },
  {
   "cell_type": "code",
   "execution_count": 5,
   "metadata": {},
   "outputs": [
    {
     "data": {
      "image/png": "[encoded data removed]",
      "text/plain": [
       "<Figure size 432x288 with 1 Axes>"
      ]
     },
     "metadata": {
      "needs_background": "light"
     },
     "output_type": "display_data"
    }
   ],
   "source": [
    "some_digit = np.array(train_data.loc[0])\n",
    "some_digit_image = some_digit.reshape(28,28)\n",
    "plt.imshow(some_digit_image,cmap=mpl.cm.binary,interpolation=\"nearest\")\n",
    "plt.axis(\"off\")   # remove the axis grid from the image\n",
    "plt.show()"
   ]
  },
  {
   "cell_type": "markdown",
   "metadata": {},
   "source": [
    "### Training a binary classifier"
   ]
  },
  {
   "cell_type": "code",
   "execution_count": 6,
   "metadata": {},
   "outputs": [],
   "source": [
    "# Training a binary classifier\n",
    "# lets simplify the problem and first try to classifiy only one digit\n",
    "X_train = train_data.iloc[:30000]\n",
    "Y_train_label = train_label[:30000]\n",
    "X_test = train_data.iloc[30000:]\n",
    "Y_test_label = train_label[30000:]"
   ]
  },
  {
   "cell_type": "code",
   "execution_count": 7,
   "metadata": {},
   "outputs": [],
   "source": [
    "Y_train_5 = (Y_train_label==5)\n",
    "Y_test_5 = (Y_test_label==5)"
   ]
  },
  {
   "cell_type": "code",
   "execution_count": 8,
   "metadata": {},
   "outputs": [],
   "source": [
    "from sklearn.linear_model import SGDClassifier"
   ]
  },
  {
   "cell_type": "code",
   "execution_count": 9,
   "metadata": {},
   "outputs": [
    {
     "data": {
      "text/plain": [
       "SGDClassifier(random_state=42)"
      ]
     },
     "execution_count": 9,
     "metadata": {},
     "output_type": "execute_result"
    }
   ],
   "source": [
    "sgd_clf = SGDClassifier(random_state=42)\n",
    "sgd_clf.fit(X_train,Y_train_5)"
   ]
  },
  {
   "cell_type": "code",
   "execution_count": 10,
   "metadata": {},
   "outputs": [
    {
     "data": {
      "text/plain": [
       "array([ True])"
      ]
     },
     "execution_count": 10,
     "metadata": {},
     "output_type": "execute_result"
    }
   ],
   "source": [
    "sgd_clf.predict([X_test.loc[30014]])"
   ]
  },
  {
   "cell_type": "markdown",
   "metadata": {},
   "source": [
    "# Performance Measures"
   ]
  },
  {
   "cell_type": "markdown",
   "metadata": {},
   "source": [
    "evaluating a classifier is tricker than evaluating a regressor so we will spend more time in checking the performance<br>\n",
    "## Measuring accuracy using Cross Validation\n"
   ]
  },
  {
   "cell_type": "code",
   "execution_count": 11,
   "metadata": {},
   "outputs": [
    {
     "name": "stderr",
     "output_type": "stream",
     "text": [
      "C:\\Users\\DELL\\Anaconda3\\lib\\site-packages\\sklearn\\model_selection\\_split.py:297: FutureWarning: Setting a random_state has no effect since shuffle is False. This will raise an error in 0.24. You should leave random_state to its default (None), or set shuffle=True.\n",
      "  FutureWarning\n"
     ]
    },
    {
     "name": "stdout",
     "output_type": "stream",
     "text": [
      "0.9662\n",
      "0.9644\n",
      "0.9624\n"
     ]
    }
   ],
   "source": [
    "# Implementation of Cross Validation Method\n",
    "from sklearn.model_selection import StratifiedKFold\n",
    "from sklearn.base import clone\n",
    "\n",
    "skfolds = StratifiedKFold(n_splits=3,random_state = 42)  # n_splits = 3 means split in 3 parts/folds\n",
    "\n",
    "for train_index,test_index in skfolds.split(X_train,Y_train_5):\n",
    "    \n",
    "    #Clone does a deep copy of the model in an estimator without actually copying attached data.\n",
    "    clone_clf = clone(sgd_clf) \n",
    "    \n",
    "    # we are generating training data and testing data from the set of training data only this is what happens in k-foldCV\n",
    "    # generating training data\n",
    "    X_train_folds = X_train.iloc[train_index]\n",
    "    Y_train_folds = Y_train_5.iloc[train_index]\n",
    "    \n",
    "    #generating testing data\n",
    "    X_test_folds = X_train.iloc[test_index]\n",
    "    Y_test_folds = Y_train_5.iloc[test_index]\n",
    "    \n",
    "    # fitting our model on k fold generated traing data and then test it on the kth fold\n",
    "    clone_clf.fit(X_train_folds,Y_train_folds)\n",
    "    y_pred = clone_clf.predict(X_test_folds)\n",
    "    n_correct = sum(y_pred == Y_test_folds)\n",
    "    print(n_correct/len(y_pred))  # gives the % of correct predections"
   ]
  },
  {
   "cell_type": "code",
   "execution_count": 12,
   "metadata": {},
   "outputs": [
    {
     "data": {
      "text/plain": [
       "array([0.9662, 0.9644, 0.9624])"
      ]
     },
     "execution_count": 12,
     "metadata": {},
     "output_type": "execute_result"
    }
   ],
   "source": [
    "# checking CV score from library fun\n",
    "from sklearn.model_selection import cross_val_score\n",
    "cross_val_score(sgd_clf,X_train,Y_train_5,cv=3,scoring=\"accuracy\")"
   ]
  },
  {
   "cell_type": "markdown",
   "metadata": {},
   "source": [
    "we cant realy on accuracy only it wont give us the performance measure\n",
    "# Confusion Matrix"
   ]
  },
  {
   "cell_type": "code",
   "execution_count": 13,
   "metadata": {},
   "outputs": [],
   "source": [
    "from sklearn.model_selection import cross_val_predict\n",
    "from sklearn.metrics import confusion_matrix"
   ]
  },
  {
   "cell_type": "code",
   "execution_count": 14,
   "metadata": {},
   "outputs": [
    {
     "data": {
      "text/plain": [
       "array([[26899,   688],\n",
       "       [  382,  2031]], dtype=int64)"
      ]
     },
     "execution_count": 14,
     "metadata": {},
     "output_type": "execute_result"
    }
   ],
   "source": [
    "y_train_pred = cross_val_predict(sgd_clf,X_train,Y_train_5,cv=3)\n",
    "confusion_matrix(y_train_pred,Y_train_5)"
   ]
  },
  {
   "cell_type": "markdown",
   "metadata": {},
   "source": [
    "confusion matrix gives you a lot of information but sometimes you may prefer more concise metric/Precision is the accuracy of positive predictions<br>\n",
    "$$precision = \\frac{TP}{TP+FP}$$<br>\n",
    "precision would typically use it with recall also called sensitivity or true positve/this is the ratio of positive instance that are correctly detected by the classifier\n",
    "$$recall = \\frac{TP}{TP+FN}$$<br>\n",
    "# Precision and Recall"
   ]
  },
  {
   "cell_type": "code",
   "execution_count": 15,
   "metadata": {},
   "outputs": [],
   "source": [
    "from sklearn.metrics import precision_score, recall_score"
   ]
  },
  {
   "cell_type": "code",
   "execution_count": 16,
   "metadata": {},
   "outputs": [
    {
     "data": {
      "text/plain": [
       "0.8416908412764194"
      ]
     },
     "execution_count": 16,
     "metadata": {},
     "output_type": "execute_result"
    }
   ],
   "source": [
    "precision_score(Y_train_5,y_train_pred)"
   ]
  },
  {
   "cell_type": "code",
   "execution_count": 17,
   "metadata": {},
   "outputs": [
    {
     "data": {
      "text/plain": [
       "0.7469657962486208"
      ]
     },
     "execution_count": 17,
     "metadata": {},
     "output_type": "execute_result"
    }
   ],
   "source": [
    "recall_score(Y_train_5,y_train_pred)"
   ]
  },
  {
   "cell_type": "code",
   "execution_count": 18,
   "metadata": {},
   "outputs": [
    {
     "data": {
      "text/plain": [
       "0.7915042868277474"
      ]
     },
     "execution_count": 18,
     "metadata": {},
     "output_type": "execute_result"
    }
   ],
   "source": [
    "# we can combine both precision and recall into a single metric called F1 score\n",
    "# the F1 score is the harmonic mean of precision and recall\n",
    "from sklearn.metrics import f1_score\n",
    "f1_score(Y_train_5,y_train_pred)"
   ]
  },
  {
   "cell_type": "markdown",
   "metadata": {},
   "source": [
    "# Precision Recall Curve"
   ]
  },
  {
   "cell_type": "code",
   "execution_count": 19,
   "metadata": {},
   "outputs": [],
   "source": [
    "# scores or posterior probability for each instance\n",
    "y_scores = cross_val_predict(sgd_clf,X_train,Y_train_5,cv=3,method=\"decision_function\")"
   ]
  },
  {
   "cell_type": "code",
   "execution_count": 20,
   "metadata": {},
   "outputs": [
    {
     "data": {
      "image/png": "[encoded data removed]",
      "text/plain": [
       "<Figure size 432x288 with 1 Axes>"
      ]
     },
     "metadata": {
      "needs_background": "light"
     },
     "output_type": "display_data"
    }
   ],
   "source": [
    "from sklearn.metrics import precision_recall_curve\n",
    "\n",
    "precisions,recalls,thresholds = precision_recall_curve(Y_train_5,y_scores)\n",
    "\n",
    "def plot_precision_recall_vs_threshold(precisions,recalls,thresholds):\n",
    "    \n",
    "    plt.plot(thresholds,precisions[:-1],\"b--\",label=\"Precision\")\n",
    "    \n",
    "    plt.plot(thresholds,recalls[:-1],\"g-\",label=\"Recall\")\n",
    "    \n",
    "    [...]  # highlight the threshold add the legend,axis label and grid\n",
    "    \n",
    "plot_precision_recall_vs_threshold(precisions,recalls,thresholds)\n",
    "plt.show()"
   ]
  },
  {
   "cell_type": "markdown",
   "metadata": {},
   "source": [
    "# The ROC Curve"
   ]
  },
  {
   "cell_type": "code",
   "execution_count": 21,
   "metadata": {},
   "outputs": [
    {
     "data": {
      "image/png": "[encoded data removed]",
      "text/plain": [
       "<Figure size 432x288 with 1 Axes>"
      ]
     },
     "metadata": {
      "needs_background": "light"
     },
     "output_type": "display_data"
    }
   ],
   "source": [
    "# Roc curve is the plot between recall and 1-specificity\n",
    "from sklearn.metrics import roc_curve\n",
    "fpr,tpr,thresholds = roc_curve(Y_train_5,y_scores)\n",
    "\n",
    "# then we need to plot the frp against tpr using matplt library\n",
    "\n",
    "def plot_roc_curve(fpr,tpr,label=None):\n",
    "    plt.plot(fpr,tpr,linewidth=2,label=label)\n",
    "    plt.plot([0,1],[0,1],\"k--\")\n",
    "    [...]\n",
    "    \n",
    "plot_roc_curve(fpr,tpr)\n",
    "plt.show()\n",
    "# dotted line means the area under the curve is 50% so the classifier is not good\n",
    "# the blue line depicts a perfictly good classifier because in that case the true positive rate is high but not that high enough to cause overfitting to tha algorithm\n"
   ]
  },
  {
   "cell_type": "code",
   "execution_count": 22,
   "metadata": {},
   "outputs": [
    {
     "data": {
      "text/plain": [
       "0.9665156086912556"
      ]
     },
     "execution_count": 22,
     "metadata": {},
     "output_type": "execute_result"
    }
   ],
   "source": [
    "# the roc_auc score gives the area under tha curve\n",
    "from sklearn.metrics import roc_auc_score\n",
    "roc_auc_score(Y_train_5,y_scores)"
   ]
  },
  {
   "cell_type": "markdown",
   "metadata": {},
   "source": [
    "Now lets compare the sgd classifier's ROC curve to random forests ROC curve"
   ]
  },
  {
   "cell_type": "code",
   "execution_count": 23,
   "metadata": {},
   "outputs": [
    {
     "data": {
      "image/png": "[encoded data removed]",
      "text/plain": [
       "<Figure size 432x288 with 1 Axes>"
      ]
     },
     "metadata": {
      "needs_background": "light"
     },
     "output_type": "display_data"
    }
   ],
   "source": [
    "from sklearn.ensemble import RandomForestClassifier\n",
    "\n",
    "forest_clf = RandomForestClassifier(random_state=42)\n",
    "\n",
    "y_prob_forest = cross_val_predict(forest_clf,X_train,Y_train_5,cv=3,method=\"predict_proba\")\n",
    "\n",
    "# to plot ROC curve we need sores not probabilities so we will use positive class prob as the score\n",
    "\n",
    "y_scores_forest = y_prob_forest[:,1]\n",
    "\n",
    "fpr_forest , tpr_forest,thresholds_forest = roc_curve(Y_train_5,y_scores_forest)\n",
    "\n",
    "# plotting the roc curve\n",
    "\n",
    "plt.plot(fpr,tpr,\"b:\",label=\"SGD\")\n",
    "plot_roc_curve(fpr_forest,tpr_forest,\"Rnadom Forest\")\n",
    "plt.legend(loc=\"lower right\")\n",
    "plt.show()"
   ]
  },
  {
   "cell_type": "code",
   "execution_count": 24,
   "metadata": {},
   "outputs": [
    {
     "data": {
      "text/plain": [
       "0.9977054961711266"
      ]
     },
     "execution_count": 24,
     "metadata": {},
     "output_type": "execute_result"
    }
   ],
   "source": [
    "# the Rnadom Forests ROC curve looks much better than the SGD's ROC Curve so its area under the curve will also be more\n",
    "roc_auc_score(Y_train_5,y_scores_forest)"
   ]
  },
  {
   "cell_type": "markdown",
   "metadata": {},
   "source": [
    "# Multiclass Classification"
   ]
  },
  {
   "cell_type": "markdown",
   "metadata": {},
   "source": [
    "some algorithm such as random forest.naive bayes classifier are capable of handling multiple classes directly.Others are strictly binary classifiers hoverever there are multiple staratigies that you cam use to perfrom multiclass classification using set of binary classifiers\n",
    "1. first strategy is to train 10 binary classifiers each for one digit and then when you want to classify a digit compute the probability for each model and classify the digit based on the maximum probabilty among the models.this strategy is called One VS All or One VS Rest.<br>\n",
    "2. another startegy is to train a binary classifier for every set of digit one to distinguish b/w 0 and 1 another to distinguish b/w 0 and 2 and so on if there are N classes then you need to train N * (N-1)/2 classifier. this is called One VS One strategy for MNIST digit classifier we beed 45 models(binary classifiers)\n",
    "some algorithms such as SVM scale poorly with the size of training set so for these algorithm OvO is preffered since it is faster to train many classifier on small training set than training few classifiers on large training sets."
   ]
  },
  {
   "cell_type": "code",
   "execution_count": 25,
   "metadata": {},
   "outputs": [
    {
     "data": {
      "text/plain": [
       "array([1], dtype=int64)"
      ]
     },
     "execution_count": 25,
     "metadata": {},
     "output_type": "execute_result"
    }
   ],
   "source": [
    "# Multiclass Classification using SGD Classifier\n",
    "#  skip this step as we already created te object sgd_clf = SGDClassifier(random_state=42)\n",
    "sgd_clf.fit(X_train,Y_train_label)\n",
    "sgd_clf.predict([some_digit])"
   ]
  },
  {
   "cell_type": "code",
   "execution_count": 26,
   "metadata": {},
   "outputs": [
    {
     "data": {
      "text/plain": [
       "array([[-36393.90082603,  25294.0531357 ,  -6839.55678957,\n",
       "        -12572.00067269, -65075.3940922 , -18764.84619784,\n",
       "        -44572.14900147, -60734.48067716,  -5263.06527441,\n",
       "        -43756.18441401]])"
      ]
     },
     "execution_count": 26,
     "metadata": {},
     "output_type": "execute_result"
    }
   ],
   "source": [
    "# for multiclass classf SGD trained 10 binary and calculates scores for every class we can see the scores\n",
    "some_digit_score = sgd_clf.decision_function([some_digit])\n",
    "some_digit_score\n",
    "# the highest score is for 1 class and thats correct output"
   ]
  },
  {
   "cell_type": "code",
   "execution_count": 27,
   "metadata": {},
   "outputs": [
    {
     "data": {
      "text/plain": [
       "1"
      ]
     },
     "execution_count": 27,
     "metadata": {},
     "output_type": "execute_result"
    }
   ],
   "source": [
    "np.argmax(some_digit_score)"
   ]
  },
  {
   "cell_type": "code",
   "execution_count": 28,
   "metadata": {},
   "outputs": [
    {
     "data": {
      "text/plain": [
       "array([1], dtype=int64)"
      ]
     },
     "execution_count": 28,
     "metadata": {},
     "output_type": "execute_result"
    }
   ],
   "source": [
    "# if we want sciket learn to use One vs One strategy \n",
    "from sklearn.multiclass import OneVsOneClassifier\n",
    "ovo_clf = OneVsOneClassifier(SGDClassifier(random_state=42))\n",
    "ovo_clf.fit(X_train,Y_train_label)\n",
    "ovo_clf.predict([some_digit])\n",
    "# some digit is actually 1 and the predictions is correct"
   ]
  },
  {
   "cell_type": "markdown",
   "metadata": {},
   "source": []
  },
  {
   "cell_type": "code",
   "execution_count": 29,
   "metadata": {},
   "outputs": [
    {
     "data": {
      "text/plain": [
       "array([1], dtype=int64)"
      ]
     },
     "execution_count": 29,
     "metadata": {},
     "output_type": "execute_result"
    }
   ],
   "source": [
    "forest_clf.fit(X_train,Y_train_label)\n",
    "forest_clf.predict([some_digit])"
   ]
  },
  {
   "cell_type": "code",
   "execution_count": 30,
   "metadata": {},
   "outputs": [
    {
     "data": {
      "text/plain": [
       "array([[0.  , 0.99, 0.  , 0.  , 0.  , 0.  , 0.  , 0.  , 0.01, 0.  ]])"
      ]
     },
     "execution_count": 30,
     "metadata": {},
     "output_type": "execute_result"
    }
   ],
   "source": [
    "forest_clf.predict_proba([some_digit])"
   ]
  },
  {
   "cell_type": "code",
   "execution_count": 31,
   "metadata": {},
   "outputs": [
    {
     "name": "stdout",
     "output_type": "stream",
     "text": [
      "SGD CV SCORES:  [0.87   0.8764 0.8515] 0.8659666666666667\n",
      "RANDOM FOREST CV SCORES:  [0.9568 0.9574 0.9552] 0.9564666666666667\n"
     ]
    }
   ],
   "source": [
    "# lets evaluate sgd classifiers accuracy using cross validation\n",
    "sgd_cv_scores = cross_val_score(sgd_clf,X_train,Y_train_label,cv=3,scoring=\"accuracy\")\n",
    "rand_forest_cv_scores = cross_val_score(forest_clf,X_train,Y_train_label,cv=3,scoring=\"accuracy\")\n",
    "print(\"SGD CV SCORES: \",sgd_cv_scores,sgd_cv_scores.mean())\n",
    "print(\"RANDOM FOREST CV SCORES: \",rand_forest_cv_scores,rand_forest_cv_scores.mean())"
   ]
  },
  {
   "cell_type": "code",
   "execution_count": 32,
   "metadata": {},
   "outputs": [
    {
     "data": {
      "text/plain": [
       "array([[0., 0., 0., ..., 0., 0., 0.],\n",
       "       [0., 0., 0., ..., 0., 0., 0.],\n",
       "       [0., 0., 0., ..., 0., 0., 0.],\n",
       "       ...,\n",
       "       [0., 0., 0., ..., 0., 0., 0.],\n",
       "       [0., 0., 0., ..., 0., 0., 0.],\n",
       "       [0., 0., 0., ..., 0., 0., 0.]])"
      ]
     },
     "execution_count": 32,
     "metadata": {},
     "output_type": "execute_result"
    }
   ],
   "source": [
    "# lets standardize then we will see the difference\n",
    "from sklearn.preprocessing import StandardScaler\n",
    "\n",
    "scaler = StandardScaler()\n",
    "\n",
    "X_trained_scaled = scaler.fit_transform(X_train.astype(np.float64))\n",
    "\n",
    "X_trained_scaled"
   ]
  },
  {
   "cell_type": "code",
   "execution_count": 33,
   "metadata": {},
   "outputs": [
    {
     "name": "stderr",
     "output_type": "stream",
     "text": [
      "C:\\Users\\DELL\\Anaconda3\\lib\\site-packages\\sklearn\\linear_model\\_stochastic_gradient.py:573: ConvergenceWarning: Maximum number of iteration reached before convergence. Consider increasing max_iter to improve the fit.\n",
      "  ConvergenceWarning)\n",
      "C:\\Users\\DELL\\Anaconda3\\lib\\site-packages\\sklearn\\linear_model\\_stochastic_gradient.py:573: ConvergenceWarning: Maximum number of iteration reached before convergence. Consider increasing max_iter to improve the fit.\n",
      "  ConvergenceWarning)\n"
     ]
    },
    {
     "name": "stdout",
     "output_type": "stream",
     "text": [
      "SGD CV SCORES:  [0.9082 0.9089 0.9035] 0.9068666666666667\n"
     ]
    },
    {
     "name": "stderr",
     "output_type": "stream",
     "text": [
      "C:\\Users\\DELL\\Anaconda3\\lib\\site-packages\\sklearn\\linear_model\\_stochastic_gradient.py:573: ConvergenceWarning: Maximum number of iteration reached before convergence. Consider increasing max_iter to improve the fit.\n",
      "  ConvergenceWarning)\n"
     ]
    }
   ],
   "source": [
    "# lets evaluate sgd classifiers and random forests accuracy using cross validation when train data is standardise\n",
    "sgd_cv_scores = cross_val_score(sgd_clf,X_trained_scaled,Y_train_label,cv=3,scoring=\"accuracy\")\n",
    "\n",
    "print(\"SGD CV SCORES: \",sgd_cv_scores,sgd_cv_scores.mean())\n"
   ]
  },
  {
   "cell_type": "code",
   "execution_count": 55,
   "metadata": {},
   "outputs": [
    {
     "name": "stdout",
     "output_type": "stream",
     "text": [
      "RANDOM FOREST CV SCORES:  [0.96053333 0.9624     0.9608     0.96026667 0.9616     0.95973333\n",
      " 0.9584     0.95893333] 0.9603333333333334\n"
     ]
    }
   ],
   "source": [
    "rand_forest_cv_scores = cross_val_score(forest_clf,X_trained_scaled,Y_train_label,cv=8,scoring=\"accuracy\")\n",
    "\n",
    "print(\"RANDOM FOREST CV SCORES: \",rand_forest_cv_scores,rand_forest_cv_scores.mean())"
   ]
  },
  {
   "cell_type": "markdown",
   "metadata": {},
   "source": [
    "performing standardscalar helps in improving accuracy in SGD Classifier but it doe not make any difference to the accuracy of Random Forest Classifier"
   ]
  },
  {
   "cell_type": "markdown",
   "metadata": {},
   "source": [
    "# Error Analysis\n",
    "After selecting the most promising model we will found ways to improve that model one way to do it is to analyse the errors it makes"
   ]
  },
  {
   "cell_type": "code",
   "execution_count": 43,
   "metadata": {},
   "outputs": [
    {
     "data": {
      "text/plain": [
       "array([[2888,    0,    4,    3,    4,    7,   13,    1,   15,    2],\n",
       "       [   0, 3272,   22,    8,    6,    4,    6,    7,    5,    2],\n",
       "       [   9,   12, 2892,   16,   22,    2,   14,   30,   17,    6],\n",
       "       [   7,    3,   54, 2894,    4,   51,    5,   21,   34,   20],\n",
       "       [   6,    4,    6,    1, 2818,    1,   17,    9,    7,   63],\n",
       "       [  18,    8,    5,   54,    6, 2562,   30,    3,   19,   14],\n",
       "       [  18,    4,    3,    0,    5,   21, 2906,    0,   13,    0],\n",
       "       [   9,   16,   41,    5,   21,    0,    0, 2985,    7,   49],\n",
       "       [   9,   13,   18,   45,   17,   21,   15,    4, 2701,   46],\n",
       "       [  15,    8,    5,   46,   57,   10,    4,   26,   27, 2777]],\n",
       "      dtype=int64)"
      ]
     },
     "execution_count": 43,
     "metadata": {},
     "output_type": "execute_result"
    }
   ],
   "source": [
    "y_train_pred = cross_val_predict(forest_clf,X_trained_scaled,Y_train_label,cv=3)\n",
    "conf_mat = confusion_matrix(Y_train_label,y_train_pred)\n",
    "conf_mat"
   ]
  },
  {
   "cell_type": "code",
   "execution_count": 44,
   "metadata": {},
   "outputs": [
    {
     "data": {
      "image/png": "[encoded data removed]",
      "text/plain": [
       "<Figure size 288x288 with 1 Axes>"
      ]
     },
     "metadata": {
      "needs_background": "light"
     },
     "output_type": "display_data"
    }
   ],
   "source": [
    "plt.matshow(conf_mat,cmap=plt.cm.gray)\n",
    "plt.show()\n",
    "# some of the diagnols blocks are slightly darker it means the classifier does not perfrom well on classifying those"
   ]
  },
  {
   "cell_type": "code",
   "execution_count": 45,
   "metadata": {},
   "outputs": [
    {
     "data": {
      "text/plain": [
       "array([[9.83316309e-01, 0.00000000e+00, 1.36193395e-03, 1.02145046e-03,\n",
       "        1.36193395e-03, 2.38338441e-03, 4.42628533e-03, 3.40483487e-04,\n",
       "        5.10725230e-03, 6.80966973e-04],\n",
       "       [0.00000000e+00, 9.81992797e-01, 6.60264106e-03, 2.40096038e-03,\n",
       "        1.80072029e-03, 1.20048019e-03, 1.80072029e-03, 2.10084034e-03,\n",
       "        1.50060024e-03, 6.00240096e-04],\n",
       "       [2.98013245e-03, 3.97350993e-03, 9.57615894e-01, 5.29801325e-03,\n",
       "        7.28476821e-03, 6.62251656e-04, 4.63576159e-03, 9.93377483e-03,\n",
       "        5.62913907e-03, 1.98675497e-03],\n",
       "       [2.26317491e-03, 9.69932105e-04, 1.74587779e-02, 9.35661170e-01,\n",
       "        1.29324281e-03, 1.64888458e-02, 1.61655351e-03, 6.78952473e-03,\n",
       "        1.09925639e-02, 6.46621403e-03],\n",
       "       [2.04638472e-03, 1.36425648e-03, 2.04638472e-03, 3.41064120e-04,\n",
       "        9.61118690e-01, 3.41064120e-04, 5.79809004e-03, 3.06957708e-03,\n",
       "        2.38744884e-03, 2.14870396e-02],\n",
       "       [6.62008091e-03, 2.94225818e-03, 1.83891136e-03, 1.98602427e-02,\n",
       "        2.20669364e-03, 9.42258183e-01, 1.10334682e-02, 1.10334682e-03,\n",
       "        6.98786318e-03, 5.14895182e-03],\n",
       "       [6.06060606e-03, 1.34680135e-03, 1.01010101e-03, 0.00000000e+00,\n",
       "        1.68350168e-03, 7.07070707e-03, 9.78451178e-01, 0.00000000e+00,\n",
       "        4.37710438e-03, 0.00000000e+00],\n",
       "       [2.87264603e-03, 5.10692627e-03, 1.30864986e-02, 1.59591446e-03,\n",
       "        6.70284073e-03, 0.00000000e+00, 0.00000000e+00, 9.52760932e-01,\n",
       "        2.23428024e-03, 1.56399617e-02],\n",
       "       [3.11526480e-03, 4.49982693e-03, 6.23052960e-03, 1.55763240e-02,\n",
       "        5.88438906e-03, 7.26895119e-03, 5.19210800e-03, 1.38456213e-03,\n",
       "        9.34925580e-01, 1.59224645e-02],\n",
       "       [5.04201681e-03, 2.68907563e-03, 1.68067227e-03, 1.54621849e-02,\n",
       "        1.91596639e-02, 3.36134454e-03, 1.34453782e-03, 8.73949580e-03,\n",
       "        9.07563025e-03, 9.33445378e-01]])"
      ]
     },
     "execution_count": 45,
     "metadata": {},
     "output_type": "execute_result"
    }
   ],
   "source": [
    "rows_sums = conf_mat.sum(axis=1,keepdims=True)\n",
    "norm_conf_mat = conf_mat/rows_sums\n",
    "norm_conf_mat"
   ]
  },
  {
   "cell_type": "code",
   "execution_count": 46,
   "metadata": {},
   "outputs": [
    {
     "data": {
      "image/png": "[encoded data removed]",
      "text/plain": [
       "<Figure size 288x288 with 1 Axes>"
      ]
     },
     "metadata": {
      "needs_background": "light"
     },
     "output_type": "display_data"
    }
   ],
   "source": [
    "np.fill_diagonal(norm_conf_mat,0)\n",
    "plt.matshow(norm_conf_mat,cmap=plt.cm.gray)\n",
    "plt.show()\n",
    "# the row represents actual classes and the col represents predicted classes\n",
    "# w ecan see 3 is missclassified as 2 similary 5 is missclassified as 3 ,9 as 4 and so on\n",
    "# looking at the plot it seems that our effort should be more on reducing fasle 5,9 etc"
   ]
  },
  {
   "cell_type": "markdown",
   "metadata": {},
   "source": [
    "# Multilabel Classification"
   ]
  },
  {
   "cell_type": "code",
   "execution_count": 47,
   "metadata": {},
   "outputs": [
    {
     "data": {
      "text/plain": [
       "KNeighborsClassifier()"
      ]
     },
     "execution_count": 47,
     "metadata": {},
     "output_type": "execute_result"
    }
   ],
   "source": [
    "# a classification which outputs multiple binary tags is called multilabel classification eg [1,0,0] for a label\n",
    "from sklearn.neighbors import KNeighborsClassifier\n",
    "y_train_large = (Y_train_label>=7)\n",
    "y_train_odd = (Y_train_label%2==1)\n",
    "\n",
    "# this contains two target label for each eg/image\n",
    "y_multilabel = np.c_[y_train_large,y_train_odd] \n",
    "\n",
    "knn_clf = KNeighborsClassifier()\n",
    "knn_clf.fit(X_train,y_multilabel)"
   ]
  },
  {
   "cell_type": "code",
   "execution_count": 50,
   "metadata": {},
   "outputs": [
    {
     "data": {
      "text/plain": [
       "array([[False,  True]])"
      ]
     },
     "execution_count": 50,
     "metadata": {},
     "output_type": "execute_result"
    }
   ],
   "source": [
    "knn_clf.predict([some_digit])   "
   ]
  }
 ],
 "metadata": {
  "kernelspec": {
   "display_name": "Python 3",
   "language": "python",
   "name": "python3"
  },
  "language_info": {
   "codemirror_mode": {
    "name": "ipython",
    "version": 3
   },
   "file_extension": ".py",
   "mimetype": "text/x-python",
   "name": "python",
   "nbconvert_exporter": "python",
   "pygments_lexer": "ipython3",
   "version": "3.7.3"
  }
 },
 "nbformat": 4,
 "nbformat_minor": 2
}
