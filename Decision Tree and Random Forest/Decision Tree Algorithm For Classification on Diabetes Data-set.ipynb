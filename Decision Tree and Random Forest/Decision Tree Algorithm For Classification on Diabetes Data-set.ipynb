{
 "cells": [
  {
   "cell_type": "markdown",
   "metadata": {},
   "source": [
    "## Data Preprocessing"
   ]
  },
  {
   "cell_type": "code",
   "execution_count": 170,
   "metadata": {},
   "outputs": [],
   "source": [
    "import pandas as pd\n",
    "import numpy as np\n",
    "import pprint\n",
    "import random"
   ]
  },
  {
   "cell_type": "code",
   "execution_count": 171,
   "metadata": {},
   "outputs": [
    {
     "data": {
      "text/html": [
       "<div>\n",
       "<style scoped>\n",
       "    .dataframe tbody tr th:only-of-type {\n",
       "        vertical-align: middle;\n",
       "    }\n",
       "\n",
       "    .dataframe tbody tr th {\n",
       "        vertical-align: top;\n",
       "    }\n",
       "\n",
       "    .dataframe thead th {\n",
       "        text-align: right;\n",
       "    }\n",
       "</style>\n",
       "<table border=\"1\" class=\"dataframe\">\n",
       "  <thead>\n",
       "    <tr style=\"text-align: right;\">\n",
       "      <th></th>\n",
       "      <th>Pregnancies</th>\n",
       "      <th>Glucose</th>\n",
       "      <th>BloodPressure</th>\n",
       "      <th>SkinThickness</th>\n",
       "      <th>Insulin</th>\n",
       "      <th>BMI</th>\n",
       "      <th>DiabetesPedigreeFunction</th>\n",
       "      <th>Age</th>\n",
       "      <th>Outcome</th>\n",
       "    </tr>\n",
       "  </thead>\n",
       "  <tbody>\n",
       "    <tr>\n",
       "      <th>0</th>\n",
       "      <td>6</td>\n",
       "      <td>148</td>\n",
       "      <td>72</td>\n",
       "      <td>35</td>\n",
       "      <td>0</td>\n",
       "      <td>33.6</td>\n",
       "      <td>0.627</td>\n",
       "      <td>50</td>\n",
       "      <td>1</td>\n",
       "    </tr>\n",
       "    <tr>\n",
       "      <th>1</th>\n",
       "      <td>1</td>\n",
       "      <td>85</td>\n",
       "      <td>66</td>\n",
       "      <td>29</td>\n",
       "      <td>0</td>\n",
       "      <td>26.6</td>\n",
       "      <td>0.351</td>\n",
       "      <td>31</td>\n",
       "      <td>0</td>\n",
       "    </tr>\n",
       "    <tr>\n",
       "      <th>2</th>\n",
       "      <td>8</td>\n",
       "      <td>183</td>\n",
       "      <td>64</td>\n",
       "      <td>0</td>\n",
       "      <td>0</td>\n",
       "      <td>23.3</td>\n",
       "      <td>0.672</td>\n",
       "      <td>32</td>\n",
       "      <td>1</td>\n",
       "    </tr>\n",
       "    <tr>\n",
       "      <th>3</th>\n",
       "      <td>1</td>\n",
       "      <td>89</td>\n",
       "      <td>66</td>\n",
       "      <td>23</td>\n",
       "      <td>94</td>\n",
       "      <td>28.1</td>\n",
       "      <td>0.167</td>\n",
       "      <td>21</td>\n",
       "      <td>0</td>\n",
       "    </tr>\n",
       "    <tr>\n",
       "      <th>4</th>\n",
       "      <td>0</td>\n",
       "      <td>137</td>\n",
       "      <td>40</td>\n",
       "      <td>35</td>\n",
       "      <td>168</td>\n",
       "      <td>43.1</td>\n",
       "      <td>2.288</td>\n",
       "      <td>33</td>\n",
       "      <td>1</td>\n",
       "    </tr>\n",
       "  </tbody>\n",
       "</table>\n",
       "</div>"
      ],
      "text/plain": [
       "   Pregnancies  Glucose  BloodPressure  SkinThickness  Insulin   BMI  \\\n",
       "0            6      148             72             35        0  33.6   \n",
       "1            1       85             66             29        0  26.6   \n",
       "2            8      183             64              0        0  23.3   \n",
       "3            1       89             66             23       94  28.1   \n",
       "4            0      137             40             35      168  43.1   \n",
       "\n",
       "   DiabetesPedigreeFunction  Age  Outcome  \n",
       "0                     0.627   50        1  \n",
       "1                     0.351   31        0  \n",
       "2                     0.672   32        1  \n",
       "3                     0.167   21        0  \n",
       "4                     2.288   33        1  "
      ]
     },
     "execution_count": 171,
     "metadata": {},
     "output_type": "execute_result"
    }
   ],
   "source": [
    "df = pd.read_csv(\"diabetes.csv\")\n",
    "df.head()"
   ]
  },
  {
   "cell_type": "code",
   "execution_count": 172,
   "metadata": {},
   "outputs": [
    {
     "data": {
      "text/plain": [
       "array([35, 29,  0, 23, 32, 45, 19, 47, 38, 30, 41, 33, 26, 15, 36, 11, 31,\n",
       "       37, 42, 25, 18, 24, 39, 27, 21, 34, 10, 60, 13, 20, 22, 28, 54, 40,\n",
       "       51, 56, 14, 17, 50, 44, 12, 46, 16,  7, 52, 43, 48,  8, 49, 63, 99],\n",
       "      dtype=int64)"
      ]
     },
     "execution_count": 172,
     "metadata": {},
     "output_type": "execute_result"
    }
   ],
   "source": [
    "df[\"SkinThickness\"].unique()"
   ]
  },
  {
   "cell_type": "markdown",
   "metadata": {},
   "source": [
    "### Checking if the column contains missing values"
   ]
  },
  {
   "cell_type": "code",
   "execution_count": 173,
   "metadata": {},
   "outputs": [
    {
     "data": {
      "text/plain": [
       "False"
      ]
     },
     "execution_count": 173,
     "metadata": {},
     "output_type": "execute_result"
    }
   ],
   "source": [
    "df[\"Glucose\"].isnull().values.any()"
   ]
  },
  {
   "cell_type": "code",
   "execution_count": 174,
   "metadata": {},
   "outputs": [],
   "source": [
    "def fill_nan_values(column):\n",
    "    \n",
    "    mean = df[column].mean()\n",
    "    \n",
    "    df[column].fillna(value =mean , inplace = True )"
   ]
  },
  {
   "cell_type": "code",
   "execution_count": 175,
   "metadata": {},
   "outputs": [],
   "source": [
    "for column in df.columns[:-1]:\n",
    "    \n",
    "    check = df[column].isnull().values.any()\n",
    "   \n",
    "    if check == True:\n",
    "        \n",
    "        fill_nan_values(column)  # function to fill nan values\n",
    "        \n",
    "        print(\"NAN values has been filled\")"
   ]
  },
  {
   "cell_type": "code",
   "execution_count": 176,
   "metadata": {},
   "outputs": [
    {
     "data": {
      "text/html": [
       "<div>\n",
       "<style scoped>\n",
       "    .dataframe tbody tr th:only-of-type {\n",
       "        vertical-align: middle;\n",
       "    }\n",
       "\n",
       "    .dataframe tbody tr th {\n",
       "        vertical-align: top;\n",
       "    }\n",
       "\n",
       "    .dataframe thead th {\n",
       "        text-align: right;\n",
       "    }\n",
       "</style>\n",
       "<table border=\"1\" class=\"dataframe\">\n",
       "  <thead>\n",
       "    <tr style=\"text-align: right;\">\n",
       "      <th></th>\n",
       "      <th>Pregnancies</th>\n",
       "      <th>Glucose</th>\n",
       "      <th>BloodPressure</th>\n",
       "      <th>SkinThickness</th>\n",
       "      <th>Insulin</th>\n",
       "      <th>BMI</th>\n",
       "      <th>DiabetesPedigreeFunction</th>\n",
       "      <th>Age</th>\n",
       "      <th>Outcome</th>\n",
       "    </tr>\n",
       "  </thead>\n",
       "  <tbody>\n",
       "    <tr>\n",
       "      <th>0</th>\n",
       "      <td>6</td>\n",
       "      <td>148</td>\n",
       "      <td>72</td>\n",
       "      <td>35</td>\n",
       "      <td>0</td>\n",
       "      <td>33.6</td>\n",
       "      <td>0.627</td>\n",
       "      <td>50</td>\n",
       "      <td>1</td>\n",
       "    </tr>\n",
       "    <tr>\n",
       "      <th>1</th>\n",
       "      <td>1</td>\n",
       "      <td>85</td>\n",
       "      <td>66</td>\n",
       "      <td>29</td>\n",
       "      <td>0</td>\n",
       "      <td>26.6</td>\n",
       "      <td>0.351</td>\n",
       "      <td>31</td>\n",
       "      <td>0</td>\n",
       "    </tr>\n",
       "    <tr>\n",
       "      <th>2</th>\n",
       "      <td>8</td>\n",
       "      <td>183</td>\n",
       "      <td>64</td>\n",
       "      <td>0</td>\n",
       "      <td>0</td>\n",
       "      <td>23.3</td>\n",
       "      <td>0.672</td>\n",
       "      <td>32</td>\n",
       "      <td>1</td>\n",
       "    </tr>\n",
       "    <tr>\n",
       "      <th>3</th>\n",
       "      <td>1</td>\n",
       "      <td>89</td>\n",
       "      <td>66</td>\n",
       "      <td>23</td>\n",
       "      <td>94</td>\n",
       "      <td>28.1</td>\n",
       "      <td>0.167</td>\n",
       "      <td>21</td>\n",
       "      <td>0</td>\n",
       "    </tr>\n",
       "    <tr>\n",
       "      <th>4</th>\n",
       "      <td>0</td>\n",
       "      <td>137</td>\n",
       "      <td>40</td>\n",
       "      <td>35</td>\n",
       "      <td>168</td>\n",
       "      <td>43.1</td>\n",
       "      <td>2.288</td>\n",
       "      <td>33</td>\n",
       "      <td>1</td>\n",
       "    </tr>\n",
       "  </tbody>\n",
       "</table>\n",
       "</div>"
      ],
      "text/plain": [
       "   Pregnancies  Glucose  BloodPressure  SkinThickness  Insulin   BMI  \\\n",
       "0            6      148             72             35        0  33.6   \n",
       "1            1       85             66             29        0  26.6   \n",
       "2            8      183             64              0        0  23.3   \n",
       "3            1       89             66             23       94  28.1   \n",
       "4            0      137             40             35      168  43.1   \n",
       "\n",
       "   DiabetesPedigreeFunction  Age  Outcome  \n",
       "0                     0.627   50        1  \n",
       "1                     0.351   31        0  \n",
       "2                     0.672   32        1  \n",
       "3                     0.167   21        0  \n",
       "4                     2.288   33        1  "
      ]
     },
     "execution_count": 176,
     "metadata": {},
     "output_type": "execute_result"
    }
   ],
   "source": [
    "df.head()"
   ]
  },
  {
   "cell_type": "markdown",
   "metadata": {},
   "source": [
    "## Helper Functions"
   ]
  },
  {
   "cell_type": "code",
   "execution_count": 177,
   "metadata": {},
   "outputs": [],
   "source": [
    "# because the labels are in float\n",
    "df[\"Outcome\"] = df[\"Outcome\"].astype(\"int\")"
   ]
  },
  {
   "cell_type": "code",
   "execution_count": 178,
   "metadata": {},
   "outputs": [],
   "source": [
    "def train_test_split(df,train_per):\n",
    "    \n",
    "    train_df = df.iloc[0:int(train_per*len(df)),:]\n",
    "    \n",
    "    test_df = df.iloc[int(train_per*len(df)):,:]\n",
    "    \n",
    "    return train_df, test_df"
   ]
  },
  {
   "cell_type": "code",
   "execution_count": 179,
   "metadata": {},
   "outputs": [],
   "source": [
    "random.seed(0)\n",
    "train_df,test_df = train_test_split(df,0.90)"
   ]
  },
  {
   "cell_type": "code",
   "execution_count": 180,
   "metadata": {},
   "outputs": [
    {
     "name": "stdout",
     "output_type": "stream",
     "text": [
      "shapes----> training data:  (691, 9) testing data:  (77, 9)\n"
     ]
    }
   ],
   "source": [
    "print(\"shapes----> training data: \",train_df.shape,\"testing data: \",test_df.shape)"
   ]
  },
  {
   "cell_type": "markdown",
   "metadata": {},
   "source": [
    "Note :- the data we are passing into the functions is an array "
   ]
  },
  {
   "cell_type": "code",
   "execution_count": 181,
   "metadata": {},
   "outputs": [],
   "source": [
    "def determine_feature_type(data):\n",
    "    \n",
    "    feature_type={}\n",
    "     \n",
    "    for column in data.columns[:-1]:\n",
    "        \n",
    "        if type(data[column]) == str or len(np.unique(data[column]))>12:\n",
    "                \n",
    "            feature_type[column]=\"continuous\"\n",
    "                \n",
    "        else:\n",
    "                \n",
    "            feature_type[column]=\"categorical\"\n",
    "                \n",
    "    return feature_type"
   ]
  },
  {
   "cell_type": "code",
   "execution_count": 182,
   "metadata": {},
   "outputs": [],
   "source": [
    "# checks the purity of data if the data contains only one type of label then it returns True else False\n",
    "\n",
    "def check_purity(data):\n",
    "\n",
    "    labels = data[:,-1]  # labels\n",
    "    \n",
    "    labels_unique = np.unique(labels)\n",
    "    \n",
    "    if len(labels_unique) == 1:\n",
    "        \n",
    "        return True\n",
    "    \n",
    "    else:\n",
    "        \n",
    "        return False"
   ]
  },
  {
   "cell_type": "code",
   "execution_count": 183,
   "metadata": {},
   "outputs": [],
   "source": [
    "# this function is used to assign a label if the data is pure means it conatins only one label then classify will \n",
    "# return that label else it will return the label which is present in maximum amount\n",
    "# Returns the Class/label/outcome\n",
    "\n",
    "def Classify(data):\n",
    "    \n",
    "    labels = data[:,-1]\n",
    "    \n",
    "    labels_unique , count  = np.unique(labels , return_counts=True)\n",
    "   \n",
    "    max_freq_index = np.argmax(count)   # gives the index where the classes are maximum\n",
    "        \n",
    "    class_val = labels_unique[max_freq_index]  # so extracting in labels the exact class\n",
    "    \n",
    "    return class_val"
   ]
  },
  {
   "cell_type": "code",
   "execution_count": 184,
   "metadata": {},
   "outputs": [],
   "source": [
    "# This function is used to find the possible potential splits \n",
    "# returns a dict where keys represent col index and the key_value represent the possible unique values of that column\n",
    "\n",
    "def get_potential_splits(data):\n",
    "    \n",
    "    potential_splits = {}\n",
    "    \n",
    "    for column in range(data.shape[1]-1):\n",
    "        \n",
    "           # making empty list as key values so that we can append later on\n",
    "        \n",
    "        unique_col_values = np.unique(data[:,column])\n",
    "        feature_type_key = labels[column]\n",
    "        type_of_feature = feature_type[feature_type_key]\n",
    "        #print(column)\n",
    "        if type_of_feature == \"continuous\":\n",
    "            potential_splits[column]=[]\n",
    "            for val in range(len(unique_col_values)):  # this loop is used to take the sum of unq values and take thier mean so that its easier to split them\n",
    "\n",
    "                if val !=0:\n",
    "\n",
    "                    previous_val = unique_col_values[val-1]\n",
    "\n",
    "                    current_val = unique_col_values[val]\n",
    "\n",
    "                    potential_splits[column].append((current_val+previous_val)/2)\n",
    "                \n",
    "        else:\n",
    "            potential_splits[column]=unique_col_values\n",
    "    return potential_splits"
   ]
  },
  {
   "cell_type": "code",
   "execution_count": 185,
   "metadata": {},
   "outputs": [],
   "source": [
    "# after finding the potential splits and calculate the best split values we split the data into 2 parts data above and below\n",
    "\n",
    "def split_data(data,split_col,split_value):\n",
    "    \n",
    "    split_column_values = data[:, split_col]   # columns which is taken in account\n",
    "    \n",
    "    feature_type_key = labels[split_col]\n",
    "    type_of_feature = feature_type[feature_type_key]\n",
    "    \n",
    "    \n",
    "    if type_of_feature == \"continuous\":\n",
    "    \n",
    "        data_below = data[split_column_values <= split_value]  # data which has values greater than split value\n",
    "    \n",
    "        data_above = data[split_column_values > split_value]  ## data which has values less than split value\n",
    "    \n",
    "    else:\n",
    "        data_below = data[split_column_values == split_value]  # data which has values greater than split value\n",
    "    \n",
    "        data_above = data[split_column_values != split_value]\n",
    "    return data_above,data_below  # returns the data "
   ]
  },
  {
   "cell_type": "markdown",
   "metadata": {},
   "source": [
    "\n",
    "now to pass split col and split value first we need to find the best split parameter and to find best split parameter we need to calculate overall entropy andfor overall entropy we need individual node entropy so basicaly<br>\n",
    "first we need to write entropy function\n",
    "then pass entropy to calculate overall entropy and then pass overall entropy to determine best feature."
   ]
  },
  {
   "cell_type": "markdown",
   "metadata": {},
   "source": [
    "### Entropy"
   ]
  },
  {
   "cell_type": "markdown",
   "metadata": {},
   "source": [
    "$$ E =  \\sum_{K=0}^{1} p^{i}(-log_{e}p^{i}) $$\n",
    "$$\\text{Overall Entropy} = \\sum_{node=1}^{2} P E$$"
   ]
  },
  {
   "cell_type": "code",
   "execution_count": 186,
   "metadata": {},
   "outputs": [],
   "source": [
    "def calculate_entropy(data):  # the data will be the splitted one either data_below or data_above\n",
    "    \n",
    "    labels = data[:,-1]   # labels of splitted data or labels of splitted node , first cal for node then overall\n",
    "    \n",
    "    _, counts = np.unique(labels,return_counts=True)\n",
    "    \n",
    "    probabilities = counts/counts.sum()\n",
    "    \n",
    "    entropy = sum(probabilities*(-np.log2(probabilities)) ) # array broadcasting will do the work of summation\n",
    "    \n",
    "    return entropy\n",
    "    "
   ]
  },
  {
   "cell_type": "code",
   "execution_count": 187,
   "metadata": {},
   "outputs": [],
   "source": [
    "def calculate_overall_entropy(data_above,data_below):\n",
    "    \n",
    "    entropy_data_above =  calculate_entropy(data_above)\n",
    "    \n",
    "    entropy_data_below =  calculate_entropy(data_below)\n",
    "    \n",
    "    n=len(data_above)+len(data_below)\n",
    "    \n",
    "    prob_above = len(data_above)/n\n",
    "    \n",
    "    prob_below = len(data_below)/n\n",
    "    \n",
    "    overall_entropy = (prob_above*entropy_data_above)+(prob_below*entropy_data_below)\n",
    "    \n",
    "    return overall_entropy\n"
   ]
  },
  {
   "cell_type": "code",
   "execution_count": 188,
   "metadata": {},
   "outputs": [],
   "source": [
    "def determine_best_split(data,potential_splits):\n",
    "    \n",
    "    overall_entropy =9999\n",
    "    \n",
    "    for split_col in potential_splits:\n",
    "    \n",
    "        for split_val in (potential_splits[split_col]):\n",
    "            \n",
    "            data_above , data_below = split_data(data , split_col,split_val)\n",
    "            \n",
    "            calculated_overall_entropy = calculate_overall_entropy(data_above,data_below)\n",
    "            \n",
    "            if calculated_overall_entropy <= overall_entropy:\n",
    "                \n",
    "                overall_entropy = calculated_overall_entropy\n",
    "                \n",
    "                best_split_col = split_col\n",
    "                \n",
    "                best_split_val = split_val\n",
    "                \n",
    "    return best_split_col,best_split_val"
   ]
  },
  {
   "cell_type": "markdown",
   "metadata": {},
   "source": [
    "## Decision Tree Algorithm"
   ]
  },
  {
   "cell_type": "markdown",
   "metadata": {},
   "source": [
    "we will use and apply all the helper function in sequence to get a tree <br>\n",
    "Here the tree will be in the format of dictionary whose values are in list and the 0 index of list is specifies the step if the ans to the question is true where as the 1 index of the list specifies the false step.\n",
    "eg<br>\n"
   ]
  },
  {
   "cell_type": "code",
   "execution_count": 189,
   "metadata": {},
   "outputs": [
    {
     "name": "stdout",
     "output_type": "stream",
     "text": [
      "{'ques1': [{'ques2': ['true_ans2', 'false_ans2']}, 'false_ans1']}\n"
     ]
    }
   ],
   "source": [
    "tree_representation = {\"ques1\":[{\"ques2\":[\"true_ans2\",\"false_ans2\"]},\"false_ans1\"]}\n",
    "print(tree_representation)"
   ]
  },
  {
   "cell_type": "code",
   "execution_count": 190,
   "metadata": {},
   "outputs": [
    {
     "data": {
      "text/plain": [
       "array([[  6.   , 148.   ,  72.   , ...,   0.627,  50.   ,   1.   ],\n",
       "       [  1.   ,  85.   ,  66.   , ...,   0.351,  31.   ,   0.   ],\n",
       "       [  8.   , 183.   ,  64.   , ...,   0.672,  32.   ,   1.   ],\n",
       "       ...,\n",
       "       [  5.   , 121.   ,  72.   , ...,   0.245,  30.   ,   0.   ],\n",
       "       [  1.   , 126.   ,  60.   , ...,   0.349,  47.   ,   1.   ],\n",
       "       [  1.   ,  93.   ,  70.   , ...,   0.315,  23.   ,   0.   ]])"
      ]
     },
     "execution_count": 190,
     "metadata": {},
     "output_type": "execute_result"
    }
   ],
   "source": [
    "df.values"
   ]
  },
  {
   "cell_type": "code",
   "execution_count": 191,
   "metadata": {},
   "outputs": [],
   "source": [
    "def Decision_Tree_Algorithm(df,counter=0,maximum_depth=12):\n",
    "    \n",
    "    #converting data into array as we have defined all the functions by assuming data as an array\n",
    "    if counter==0:\n",
    "        global labels\n",
    "        global feature_type\n",
    "        feature_type = determine_feature_type(df)\n",
    "        labels = df.columns\n",
    "        data = df.values  # first time a dataframe is passed so we need to convert it into array\n",
    "       \n",
    "    else:                 # after 1 st iteration it means recursive process and the output of other functions are being passed which is already is in array format\n",
    "        data = df\n",
    "        \n",
    "        \n",
    "    # Checking node purity, if the node is pure it means we do not need to split it we just need to perform classification\n",
    "    # Node is pure it means the node already contains one class label so no need to split just classify to get label\n",
    "    \n",
    "    if check_purity(data) or (counter == maximum_depth): #or (len(data)<minimum_samples) :       # ways to reduce overfitting\n",
    "        classified_label = Classify(data)\n",
    "        print(classified_label)\n",
    "        return classified_label\n",
    "    else:                      #if means the node is not pure and we need to split the node furthur\n",
    "        \n",
    "        counter+=1\n",
    "        \n",
    "        #helper functions\n",
    "        potential_splits = get_potential_splits(data)\n",
    "        best_split_col , best_split_val = determine_best_split(data,potential_splits)\n",
    "        data_above,data_below = split_data(data,best_split_col,best_split_val)\n",
    "        \n",
    "        \n",
    "        #generatig tree\n",
    "        best_split_feature = labels[best_split_col]\n",
    "        \n",
    "        type_of_feature = feature_type[best_split_feature]\n",
    "        if type_of_feature == \"continuous\":\n",
    "            question = str(best_split_feature)+\" <= \"+str(best_split_val)\n",
    "            \n",
    "        else:\n",
    "            question = str(best_split_feature)+\" = \"+str(best_split_val)\n",
    "            \n",
    "        sub_tree = {question:[]}\n",
    "        \n",
    "        #getting answers using recursion\n",
    "        yes_ans = Decision_Tree_Algorithm(data_below,counter,maximum_depth)\n",
    "        no_ans = Decision_Tree_Algorithm(data_above,counter,maximum_depth)\n",
    "        \n",
    "        if yes_ans==no_ans:\n",
    "            sub_tree[question].append(yes_ans)\n",
    "            \n",
    "        else:\n",
    "            sub_tree[question].append(yes_ans)\n",
    "            sub_tree[question].append(no_ans)\n",
    "            \n",
    "        return sub_tree"
   ]
  },
  {
   "cell_type": "code",
   "execution_count": 192,
   "metadata": {},
   "outputs": [
    {
     "name": "stdout",
     "output_type": "stream",
     "text": [
      "0.0\n",
      "1.0\n",
      "0.0\n",
      "0.0\n",
      "1.0\n",
      "0.0\n",
      "0.0\n",
      "0.0\n",
      "1.0\n",
      "0.0\n",
      "0.0\n",
      "1.0\n",
      "1.0\n",
      "0.0\n",
      "1.0\n",
      "0.0\n",
      "1.0\n",
      "1.0\n",
      "0.0\n",
      "1.0\n",
      "0.0\n",
      "1.0\n",
      "0.0\n",
      "1.0\n",
      "0.0\n",
      "0.0\n",
      "1.0\n",
      "0.0\n",
      "0.0\n",
      "0.0\n",
      "1.0\n",
      "0.0\n",
      "1.0\n",
      "0.0\n",
      "1.0\n",
      "0.0\n",
      "1.0\n",
      "1.0\n",
      "1.0\n",
      "1.0\n",
      "0.0\n",
      "0.0\n",
      "0.0\n",
      "1.0\n",
      "1.0\n",
      "0.0\n",
      "1.0\n",
      "0.0\n",
      "0.0\n",
      "1.0\n",
      "1.0\n",
      "0.0\n",
      "1.0\n",
      "1.0\n",
      "1.0\n",
      "0.0\n",
      "0.0\n",
      "1.0\n",
      "0.0\n",
      "0.0\n",
      "0.0\n",
      "1.0\n",
      "1.0\n",
      "0.0\n",
      "1.0\n",
      "0.0\n",
      "0.0\n",
      "0.0\n",
      "1.0\n",
      "0.0\n",
      "0.0\n",
      "0.0\n",
      "1.0\n",
      "0.0\n",
      "1.0\n",
      "0.0\n",
      "0.0\n",
      "0.0\n",
      "1.0\n",
      "0.0\n",
      "1.0\n",
      "1.0\n",
      "0.0\n",
      "1.0\n",
      "0.0\n",
      "1.0\n",
      "1.0\n",
      "0.0\n",
      "0.0\n",
      "1.0\n",
      "0.0\n",
      "1.0\n",
      "1.0\n",
      "0.0\n",
      "0.0\n",
      "0.0\n",
      "1.0\n",
      "1.0\n",
      "1.0\n",
      "1.0\n",
      "0.0\n",
      "1.0\n",
      "0.0\n",
      "1.0\n",
      "1.0\n",
      "1.0\n",
      "1.0\n",
      "1.0\n",
      "0.0\n"
     ]
    }
   ],
   "source": [
    "tree = Decision_Tree_Algorithm(train_df,maximum_depth=12)"
   ]
  },
  {
   "cell_type": "code",
   "execution_count": 193,
   "metadata": {},
   "outputs": [
    {
     "data": {
      "text/plain": [
       "{'Glucose <= 127.5': [{'BMI <= 26.45': [{'BloodPressure <= 94.0': [{'DiabetesPedigreeFunction <= 0.6755': [0.0,\n",
       "        {'DiabetesPedigreeFunction <= 0.7055': [1.0, 0.0]}]},\n",
       "      {'Age <= 44.0': [0.0, 1.0]}]},\n",
       "    {'Age <= 25.5': [{'Glucose <= 94.5': [0.0,\n",
       "        {'BMI <= 31.3': [0.0,\n",
       "          {'Insulin <= 76.0': [{'SkinThickness <= 38.0': [{'Age <= 24.5': [{'SkinThickness <= 33.5': [{'SkinThickness <= 25.5': [{'BMI <= 44.099999999999994': [{'BMI <= 32.0': [0.0,\n",
       "                        1.0]},\n",
       "                      0.0]},\n",
       "                    0.0]},\n",
       "                  1.0]},\n",
       "                1.0]},\n",
       "              0.0]},\n",
       "            {'DiabetesPedigreeFunction <= 0.1345': [1.0,\n",
       "              {'Pregnancies <= 4.5': [0.0, 1.0]}]}]}]}]},\n",
       "      {'DiabetesPedigreeFunction <= 0.625': [{'Glucose <= 99.5': [{'Age <= 26.5': [{'SkinThickness <= 43.5': [1.0,\n",
       "              0.0]},\n",
       "            {'Glucose <= 28.5': [1.0,\n",
       "              {'Glucose <= 82.5': [0.0,\n",
       "                {'DiabetesPedigreeFunction <= 0.2985': [{'SkinThickness <= 31.5': [{'Age <= 42.5': [{'DiabetesPedigreeFunction <= 0.182': [1.0,\n",
       "                        0.0]},\n",
       "                      1.0]},\n",
       "                    0.0]},\n",
       "                  {'BMI <= 37.95': [0.0, {'Age <= 33.0': [1.0, 0.0]}]}]}]}]}]},\n",
       "          {'Age <= 30.5': [{'Pregnancies <= 3.5': [0.0,\n",
       "              {'DiabetesPedigreeFunction <= 0.2': [0.0,\n",
       "                {'BMI <= 30.799999999999997': [1.0,\n",
       "                  {'BloodPressure <= 77.0': [0.0, 1.0]}]}]}]},\n",
       "            {'Age <= 54.5': [{'Glucose <= 106.5': [{'Pregnancies <= 5.5': [0.0,\n",
       "                  {'Age <= 36.5': [1.0,\n",
       "                    {'DiabetesPedigreeFunction <= 0.396': [{'BloodPressure <= 88.0': [0.0,\n",
       "                        1.0]},\n",
       "                      1.0]}]}]},\n",
       "                {'Glucose <= 121.5': [{'BloodPressure <= 90.0': [{'SkinThickness <= 41.0': [1.0,\n",
       "                      {'Age <= 32.0': [1.0, 0.0]}]},\n",
       "                    0.0]},\n",
       "                  {'DiabetesPedigreeFunction <= 0.256': [{'DiabetesPedigreeFunction <= 0.1975': [{'Age <= 52.5': [0.0,\n",
       "                        1.0]},\n",
       "                      1.0]},\n",
       "                    {'BMI <= 40.95': [0.0, 1.0]}]}]}]},\n",
       "              0.0]}]}]},\n",
       "        {'Pregnancies <= 7.5': [{'SkinThickness <= 47.5': [{'DiabetesPedigreeFunction <= 1.0739999999999998': [{'BloodPressure <= 89.0': [{'Age <= 27.5': [{'SkinThickness <= 42.5': [0.0,\n",
       "                    1.0]},\n",
       "                  {'SkinThickness <= 27.0': [{'Insulin <= 85.5': [{'BMI <= 28.6': [1.0,\n",
       "                        0.0]},\n",
       "                      1.0]},\n",
       "                    {'SkinThickness <= 42.0': [1.0,\n",
       "                      {'DiabetesPedigreeFunction <= 0.722': [1.0, 0.0]}]}]}]},\n",
       "                0.0]},\n",
       "              {'DiabetesPedigreeFunction <= 1.395': [1.0, 0.0]}]},\n",
       "            0.0]},\n",
       "          {'Glucose <= 82.0': [0.0, 1.0]}]}]}]}]},\n",
       "  {'BMI <= 29.95': [{'Glucose <= 145.5': [{'Insulin <= 132.5': [{'BloodPressure <= 73.0': [{'DiabetesPedigreeFunction <= 0.5980000000000001': [{'Pregnancies <= 5.0': [{'Age <= 22.5': [{'BloodPressure <= 59.0': [1.0,\n",
       "                  0.0]},\n",
       "                1.0]},\n",
       "              0.0]},\n",
       "            0.0]},\n",
       "          {'Insulin <= 120.0': [0.0, 1.0]}]},\n",
       "        0.0]},\n",
       "      {'Age <= 61.0': [{'Age <= 25.5': [0.0,\n",
       "          {'BMI <= 27.1': [{'BMI <= 22.15': [0.0, 1.0]},\n",
       "            {'DiabetesPedigreeFunction <= 0.39749999999999996': [{'BloodPressure <= 82.0': [{'BMI <= 27.45': [0.0,\n",
       "                  1.0]},\n",
       "                0.0]},\n",
       "              0.0]}]}]},\n",
       "        0.0]}]},\n",
       "    {'Glucose <= 157.5': [{'BloodPressure <= 61.0': [1.0,\n",
       "        {'Age <= 30.5': [{'Insulin <= 260.0': [{'BMI <= 41.7': [{'BMI <= 38.05': [{'DiabetesPedigreeFunction <= 1.047': [{'DiabetesPedigreeFunction <= 0.57': [{'DiabetesPedigreeFunction <= 0.47050000000000003': [{'BMI <= 37.65': [0.0,\n",
       "                        1.0]},\n",
       "                      1.0]},\n",
       "                    0.0]},\n",
       "                  1.0]},\n",
       "                0.0]},\n",
       "              {'Glucose <= 144.5': [1.0, {'Age <= 22.5': [1.0, 0.0]}]}]},\n",
       "            0.0]},\n",
       "          {'DiabetesPedigreeFunction <= 0.22249999999999998': [{'Age <= 44.0': [1.0,\n",
       "              0.0]},\n",
       "            {'Age <= 44.5': [{'Age <= 33.5': [1.0,\n",
       "                {'BMI <= 41.15': [{'Insulin <= 191.5': [{'Pregnancies <= 9.5': [{'BMI <= 39.8': [1.0,\n",
       "                        0.0]},\n",
       "                      0.0]},\n",
       "                    0.0]},\n",
       "                  1.0]}]},\n",
       "              1.0]}]}]}]},\n",
       "      {'Glucose <= 163.5': [1.0,\n",
       "        {'Glucose <= 165.5': [{'BMI <= 31.799999999999997': [1.0, 0.0]},\n",
       "          {'DiabetesPedigreeFunction <= 1.1565': [{'DiabetesPedigreeFunction <= 0.3065': [{'BMI <= 35.400000000000006': [{'Glucose <= 177.0': [1.0,\n",
       "                  {'Glucose <= 192.0': [0.0, 1.0]}]},\n",
       "                1.0]},\n",
       "              1.0]},\n",
       "            {'Age <= 28.0': [1.0, {'BMI <= 33.35': [1.0, 0.0]}]}]}]}]}]}]}]}"
      ]
     },
     "execution_count": 193,
     "metadata": {},
     "output_type": "execute_result"
    }
   ],
   "source": [
    "tree"
   ]
  },
  {
   "cell_type": "code",
   "execution_count": 194,
   "metadata": {},
   "outputs": [
    {
     "data": {
      "text/plain": [
       "<function dict.values>"
      ]
     },
     "execution_count": 194,
     "metadata": {},
     "output_type": "execute_result"
    }
   ],
   "source": [
    "tree.values"
   ]
  },
  {
   "cell_type": "markdown",
   "metadata": {},
   "source": [
    "## Testing Data Classification"
   ]
  },
  {
   "cell_type": "code",
   "execution_count": 195,
   "metadata": {},
   "outputs": [],
   "source": [
    "def classify_example(example,tree):     # example here depicts 1 single example\n",
    "    \n",
    "    question = list(tree.keys())[0]     # 1st question\n",
    "    split_feature, comparision_operator,split_val = question.split()\n",
    "    if comparision_operator == \"<=\":\n",
    "        if example[split_feature] <= float(split_val):\n",
    "            answer = tree[question][0]                  # if example feature value is less then it goes to true ans in list\n",
    "\n",
    "        else:\n",
    "            answer= tree[question][1]                   # else 1 index is for false answer\n",
    "        \n",
    "        \n",
    "    else:\n",
    "        if example[split_feature] == split_val:\n",
    "            answer = tree[question][0]                  # if example feature value is less then it goes to true ans in list\n",
    "        \n",
    "        else:\n",
    "            answer= tree[question][1]   \n",
    "        \n",
    "    # base case\n",
    "    if not isinstance(answer, dict):\n",
    "        return answer\n",
    "    \n",
    "    # recursive part\n",
    "    else:\n",
    "        residual_tree = answer\n",
    "        return classify_example(example, residual_tree)"
   ]
  },
  {
   "cell_type": "code",
   "execution_count": 196,
   "metadata": {},
   "outputs": [],
   "source": [
    "\n",
    "def calculate_accuracy(df, tree):\n",
    "\n",
    "    df[\"classification\"] = df.apply(classify_example, axis=1, args=(tree,))\n",
    "    df[\"classification_correct\"] = df[\"classification\"] == df[\"Outcome\"]\n",
    "    \n",
    "    accuracy = df[\"classification_correct\"].mean()\n",
    "    \n",
    "    return accuracy"
   ]
  },
  {
   "cell_type": "code",
   "execution_count": 197,
   "metadata": {},
   "outputs": [
    {
     "name": "stderr",
     "output_type": "stream",
     "text": [
      "C:\\Users\\DELL\\Anaconda3\\lib\\site-packages\\ipykernel_launcher.py:3: SettingWithCopyWarning: \n",
      "A value is trying to be set on a copy of a slice from a DataFrame.\n",
      "Try using .loc[row_indexer,col_indexer] = value instead\n",
      "\n",
      "See the caveats in the documentation: http://pandas.pydata.org/pandas-docs/stable/indexing.html#indexing-view-versus-copy\n",
      "  This is separate from the ipykernel package so we can avoid doing imports until\n",
      "C:\\Users\\DELL\\Anaconda3\\lib\\site-packages\\ipykernel_launcher.py:4: SettingWithCopyWarning: \n",
      "A value is trying to be set on a copy of a slice from a DataFrame.\n",
      "Try using .loc[row_indexer,col_indexer] = value instead\n",
      "\n",
      "See the caveats in the documentation: http://pandas.pydata.org/pandas-docs/stable/indexing.html#indexing-view-versus-copy\n",
      "  after removing the cwd from sys.path.\n"
     ]
    },
    {
     "data": {
      "text/plain": [
       "0.7532467532467533"
      ]
     },
     "execution_count": 197,
     "metadata": {},
     "output_type": "execute_result"
    }
   ],
   "source": [
    "accuracy = calculate_accuracy(test_df, tree)\n",
    "accuracy"
   ]
  },
  {
   "cell_type": "code",
   "execution_count": 198,
   "metadata": {},
   "outputs": [
    {
     "name": "stderr",
     "output_type": "stream",
     "text": [
      "C:\\Users\\DELL\\Anaconda3\\lib\\site-packages\\ipykernel_launcher.py:3: SettingWithCopyWarning: \n",
      "A value is trying to be set on a copy of a slice from a DataFrame.\n",
      "Try using .loc[row_indexer,col_indexer] = value instead\n",
      "\n",
      "See the caveats in the documentation: http://pandas.pydata.org/pandas-docs/stable/indexing.html#indexing-view-versus-copy\n",
      "  This is separate from the ipykernel package so we can avoid doing imports until\n",
      "C:\\Users\\DELL\\Anaconda3\\lib\\site-packages\\ipykernel_launcher.py:4: SettingWithCopyWarning: \n",
      "A value is trying to be set on a copy of a slice from a DataFrame.\n",
      "Try using .loc[row_indexer,col_indexer] = value instead\n",
      "\n",
      "See the caveats in the documentation: http://pandas.pydata.org/pandas-docs/stable/indexing.html#indexing-view-versus-copy\n",
      "  after removing the cwd from sys.path.\n"
     ]
    },
    {
     "data": {
      "text/plain": [
       "0.9927641099855282"
      ]
     },
     "execution_count": 198,
     "metadata": {},
     "output_type": "execute_result"
    }
   ],
   "source": [
    "accuracy = calculate_accuracy(train_df, tree)\n",
    "accuracy"
   ]
  },
  {
   "cell_type": "code",
   "execution_count": null,
   "metadata": {},
   "outputs": [],
   "source": []
  }
 ],
 "metadata": {
  "kernelspec": {
   "display_name": "Python 3",
   "language": "python",
   "name": "python3"
  },
  "language_info": {
   "codemirror_mode": {
    "name": "ipython",
    "version": 3
   },
   "file_extension": ".py",
   "mimetype": "text/x-python",
   "name": "python",
   "nbconvert_exporter": "python",
   "pygments_lexer": "ipython3",
   "version": "3.7.3"
  }
 },
 "nbformat": 4,
 "nbformat_minor": 2
}
