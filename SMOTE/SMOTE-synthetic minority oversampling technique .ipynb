{
 "cells": [
  {
   "cell_type": "markdown",
   "metadata": {},
   "source": [
    "# Synthetic Minority Oversampling Technique"
   ]
  },
  {
   "cell_type": "markdown",
   "metadata": {},
   "source": [
    "SMOTE is used when we have unbalanced dataset<br>\n",
    "What do you mean by unbalanced dataset?<br>\n",
    "Ans- Unbalanced dataset are those dataset in which amount of data of one class is more than other class for example you have a dataset containing 2 classes(binary classification) the amount of data for class 1 is 98% of complete data and 2% for class 0 so when you are trying to find the probabilty for both the classes the probability for class1 is nearly equal to 1 which will overcome class 0 its only because of the unbalanced data to.<br>\n",
    "\n",
    "<img src=\"unb.png\" width=\"500\" height=\"100\"/>\n"
   ]
  },
  {
   "cell_type": "markdown",
   "metadata": {},
   "source": [
    "### What SMOTE Actually is?\n",
    "it is a technique which is used to create synthetic data(fake data) for minority class(the class which is very less in comparision with other classes because the data of the minority class is very less in comparision to majority classes , therefore the algorihtm tends to become biased towards majority class.To perform unbiased or accurate classification we need the data which is not balanced that means they is not very large difference in the amount for different classes.\n",
    "so to remove unbiasness we need to balance our data and to do that we will generate fake data from the already present data for minority class which helps in increaing the amount of data for minority class and because of this we get good classfication."
   ]
  },
  {
   "cell_type": "markdown",
   "metadata": {},
   "source": [
    "<img src=\"smt1.jpg\" width=\"300\" height=\"750\"/>\n",
    "lets consider two vectors A and B which are close to each other and R is their resulatant\n",
    "$$\\vec{r} = \\vec{a} +\\vec{b} $$\n",
    "$$\\vec{b} = \\vec{r} -\\vec{a}$$ <br>\n",
    "__How SMOTE works is__ \n",
    "we have the minority data  and we randomly choose 1 eg form minority data say it as vector v1 (as that eg is going to represented as a vector in vector space) and after choosing v1 we choose another eg from remaining data v2 such that the difference between the two vectors is minimum i.e. v2 vector is most closest to v1 among the whole data.<br>\n",
    "Now assume v1 as r vector and vector v2 as a\n",
    "<img src=\"smt2.jpg\" width=\"200\" height=\"250\"/>\n",
    "their difference will give b vector (b is the difference between the two closest vectors)"
   ]
  },
  {
   "cell_type": "markdown",
   "metadata": {},
   "source": [
    "<img src=\"smt3.jpg\" width=\"200\" height=\"250\"/>\n",
    "We have two closest vector that is r and a and we wanted to generate the 3rd vectr which is closest to r vector\n",
    "<img src=\"smt4.jpg\" width=\"200\" height=\"250\"/>\n",
    "so what we will do is we will reduced the length of b vector by multiplying it with a random no between 0-1 and the new vector will be b'\n",
    "$$\\vec{b} = \\vec{r} -\\vec{a}$$\n",
    "$$(0,1)\\vec{b} = \\vec{r} -\\vec{a}$$\n",
    "$$(0,1)\\vec{b}==\\vec{b^{'}}$$<br>\n",
    "As we want to generate the new vector closest to r so when we add r to b' we get a vector which is very close to r and this is our generated vector.\n",
    "<img src=\"smt5.jpg\" width=\"400\" height=\"450\"/>\n",
    "$$\\vec{s} = \\vec{r} +\\vec{b^{'}}$$\n",
    "if we contains data having 1000 examples and for each examples we create 1 fake data then we can generate 500 artificial data\n",
    "and if for 1000 examples we generate two b' for each example then that yields in 1000 artifical data"
   ]
  },
  {
   "cell_type": "markdown",
   "metadata": {},
   "source": [
    "## SUMMARY\n",
    "1. Choose an example(a row vector) r randomly from minority class data\n",
    "2. Choose another vector or closest example from the left out data.\n",
    "3. Subtract a from r to get b vector.\n",
    "4. Reduce b to b' to generate more closest fake data.\n",
    "5. The synthetically created vector will be $$\\vec{S}=np.random.unifrom(0,1)*\\vec{b} +\\vec{r} $$\n",
    "Repeat the same steps for other examples"
   ]
  }
 ],
 "metadata": {
  "kernelspec": {
   "display_name": "Python 3",
   "language": "python",
   "name": "python3"
  },
  "language_info": {
   "codemirror_mode": {
    "name": "ipython",
    "version": 3
   },
   "file_extension": ".py",
   "mimetype": "text/x-python",
   "name": "python",
   "nbconvert_exporter": "python",
   "pygments_lexer": "ipython3",
   "version": "3.7.3"
  }
 },
 "nbformat": 4,
 "nbformat_minor": 2
}
